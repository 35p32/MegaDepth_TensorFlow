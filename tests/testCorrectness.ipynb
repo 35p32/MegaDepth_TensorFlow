{
 "cells": [
  {
   "cell_type": "code",
   "execution_count": 1,
   "metadata": {},
   "outputs": [],
   "source": [
    "import tensorflow as tf\n",
    "import numpy as np\n",
    "import cv2\n",
    "import sys, os\n",
    "from skimage import io\n",
    "from skimage.transform import resize\n",
    "sys.path.append('..')\n",
    "\n",
    "from src.model import Hourglass as Hourglass\n",
    "import tools.inspect_checkpoint\n",
    "%load_ext autoreload\n",
    "%autoreload 2"
   ]
  },
  {
   "cell_type": "code",
   "execution_count": 2,
   "metadata": {},
   "outputs": [],
   "source": [
    "img_path = '../demo.jpg'\n",
    "out_path = '../output_colored.png'"
   ]
  },
  {
   "cell_type": "code",
   "execution_count": 3,
   "metadata": {},
   "outputs": [],
   "source": [
    "img = np.float32(io.imread(img_path))\n",
    "w, h = img.shape[:2]\n",
    "input_height = 240\n",
    "input_width = 320"
   ]
  },
  {
   "cell_type": "code",
   "execution_count": 4,
   "metadata": {},
   "outputs": [],
   "source": [
    "img = cv2.resize(img, (input_width, input_height))\n",
    "img = np.expand_dims(img, axis=0)"
   ]
  },
  {
   "cell_type": "code",
   "execution_count": 5,
   "metadata": {},
   "outputs": [
    {
     "output_type": "stream",
     "name": "stdout",
     "text": "[[19387 18288 18064 ... 17100 17920 19150]\n [18199 18022 17715 ... 16047 16784 17208]\n [17981 17854 17523 ... 15647 16211 16806]\n ...\n [52257 53264 53628 ... 58444 58859 57767]\n [52527 53803 54187 ... 58722 58947 57918]\n [49096 53721 54102 ... 58496 58532 52894]]\n"
    }
   ],
   "source": [
    "sample_out = io.imread('../hell0_demo_tf_320x240_prepost.png')\n",
    "print(sample_out)"
   ]
  },
  {
   "cell_type": "code",
   "execution_count": 6,
   "metadata": {},
   "outputs": [
    {
     "output_type": "stream",
     "name": "stdout",
     "text": "Gpus are  [PhysicalDevice(name='/physical_device:GPU:0', device_type='GPU')]\n"
    }
   ],
   "source": [
    "gpus= tf.config.experimental.list_physical_devices('GPU')\n",
    "tf.config.experimental.set_memory_growth(gpus[0], True)\n",
    "print(\"Gpus are \",gpus)"
   ]
  },
  {
   "cell_type": "code",
   "execution_count": 7,
   "metadata": {},
   "outputs": [],
   "source": [
    "x = tf.zeros([4,384,512,3], tf.float32)"
   ]
  },
  {
   "cell_type": "code",
   "execution_count": 8,
   "metadata": {},
   "outputs": [
    {
     "output_type": "stream",
     "name": "stdout",
     "text": "weight loaded\nModel created\nWARNING:tensorflow:From /home/sniper/programs/AIenv3/lib/python3.6/site-packages/tensorflow_core/python/ops/resource_variable_ops.py:1635: calling BaseResourceVariable.__init__ (from tensorflow.python.ops.resource_variable_ops) with constraint is deprecated and will be removed in a future version.\nInstructions for updating:\nIf using Keras pass *_constraint arguments to layers.\nloading weights\n[[230.06601 228.04631 227.75038 ... 235.12692 224.73686 230.45412]\n [232.04471 227.8006  228.93391 ... 226.5377  222.36766 226.4358 ]\n [235.84232 232.5685  233.39561 ... 223.662   221.49083 221.60693]\n ...\n [229.39291 228.05417 225.92091 ... 218.15771 217.13875 218.98273]\n [228.36572 225.05762 225.30272 ... 212.72368 213.78432 215.3887 ]\n [223.94109 222.36055 220.91011 ... 214.19508 213.496   217.79015]]\n"
    }
   ],
   "source": [
    "if gpus:\n",
    "    weight_path = '../numpy_weights/weights.pkl.npy'\n",
    "    #trainedWeights = np.load('weights.pkl.npy',allow_pickle=True)[()]\n",
    "    print(\"weight loaded\")\n",
    "    H = Hourglass(training=False,weight_path=weight_path,normalize=True)\n",
    "    print(\"Model created\")\n",
    "    H.trainable = False\n",
    "    output = H.predict_on_batch(img)\n",
    "    #print(\"output Finished\",output)\n",
    "    output = np.array(output, dtype=np.float32)*255\n",
    "    print(output)\n",
    "    io.imsave(out_path, np.array(output, dtype=np.uint8))"
   ]
  },
  {
   "cell_type": "code",
   "execution_count": null,
   "metadata": {},
   "outputs": [],
   "source": []
  }
 ],
 "metadata": {
  "language_info": {
   "codemirror_mode": {
    "name": "ipython",
    "version": 3
   },
   "file_extension": ".py",
   "mimetype": "text/x-python",
   "name": "python",
   "nbconvert_exporter": "python",
   "pygments_lexer": "ipython3",
   "version": "3.6.9-final"
  },
  "orig_nbformat": 2,
  "kernelspec": {
   "name": "aienv3",
   "display_name": "AIenv3"
  }
 },
 "nbformat": 4,
 "nbformat_minor": 2
}