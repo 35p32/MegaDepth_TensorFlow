{
 "cells": [
  {
   "cell_type": "code",
   "execution_count": null,
   "metadata": {},
   "outputs": [],
   "source": [
    "import tensorflow as tf\n",
    "import numpy as np\n",
    "import cv2\n",
    "import sys, os\n",
    "from skimage import io\n",
    "from skimage.transform import resize\n",
    "sys.path.append('..')\n",
    "\n",
    "from src.model import Hourglass as Hourglass\n",
    "import tools.inspect_checkpoint\n",
    "%load_ext autoreload\n",
    "%autoreload 2"
   ]
  },
  {
   "cell_type": "code",
   "execution_count": null,
   "metadata": {},
   "outputs": [],
   "source": [
    "img_path = '../doc/demo.jpg'\n",
    "out_path = '../doc/output_colored.png'"
   ]
  },
  {
   "cell_type": "code",
   "execution_count": null,
   "metadata": {},
   "outputs": [],
   "source": [
    "img = np.float32(io.imread(img_path))\n",
    "w, h = img.shape[:2]\n",
    "input_height = 240\n",
    "input_width = 320"
   ]
  },
  {
   "cell_type": "code",
   "execution_count": null,
   "metadata": {},
   "outputs": [],
   "source": [
    "img = cv2.resize(img, (input_width, input_height))\n",
    "img = np.expand_dims(img, axis=0)"
   ]
  },
  {
   "cell_type": "code",
   "execution_count": null,
   "metadata": {},
   "outputs": [],
   "source": [
    "sample_out = io.imread('../doc/hell0_demo_tf_320x240_prepost.png')\n",
    "print(sample_out)"
   ]
  },
  {
   "cell_type": "code",
   "execution_count": null,
   "metadata": {},
   "outputs": [],
   "source": [
    "gpus= tf.config.experimental.list_physical_devices('GPU')\n",
    "tf.config.experimental.set_memory_growth(gpus[0], True)\n",
    "print(\"Gpus are \",gpus)"
   ]
  },
  {
   "cell_type": "code",
   "execution_count": null,
   "metadata": {},
   "outputs": [],
   "source": [
    "x = tf.zeros([1,240,320,3], tf.float32)\n",
    "weight_path = '../megadepth_model_fuse_bn_name/numpy_weights/weights_prepost.npy'\n",
    "trainedWeights = np.load(weight_path, allow_pickle=True)[()]"
   ]
  },
  {
   "cell_type": "code",
   "execution_count": null,
   "metadata": {
    "tags": [
     "outputPrepend"
    ]
   },
   "outputs": [],
   "source": [
    "if gpus:\n",
    "    print(\"weight loaded\")\n",
    "    H = Hourglass(training=False, weightsPath=weight_path, normalize=False)\n",
    "    print(\"Model created\")\n",
    "    H.trainable = False\n",
    "    output = H.predict_on_batch(img)\n",
    "    #print(\"output Finished\",output)\n",
    "    output = output*255\n",
    "    # print(output)\n",
    "    io.imsave(out_path, output)"
   ]
  },
  {
   "cell_type": "code",
   "execution_count": null,
   "metadata": {
    "tags": [
     "outputPrepend"
    ]
   },
   "outputs": [],
   "source": [
    "K = trainedWeights.keys()\n",
    "# print(trainedWeights['0/conv2d/kernel'])\n",
    "for k in K:\n",
    "    if \"conv2d\" in k:\n",
    "        print(k)\n",
    "# print(K)"
   ]
  },
  {
   "cell_type": "code",
   "execution_count": null,
   "metadata": {},
   "outputs": [],
   "source": [
    "#trainedWeights2 = np.load('../weights.pkl.npy', allow_pickle=True)[()]\n"
   ]
  },
  {
   "cell_type": "code",
   "execution_count": null,
   "metadata": {
    "tags": [
     "outputPrepend"
    ]
   },
   "outputs": [],
   "source": [
    "#K = trainedWeights2.keys()\n",
    "#print(K)"
   ]
  }
 ],
 "metadata": {
  "language_info": {
   "codemirror_mode": {
    "name": "ipython",
    "version": 3
   },
   "file_extension": ".py",
   "mimetype": "text/x-python",
   "name": "python",
   "nbconvert_exporter": "python",
   "pygments_lexer": "ipython3",
   "version": "3.6.9-final"
  },
  "orig_nbformat": 2,
  "kernelspec": {
   "name": "aienv3",
   "display_name": "AIenv3"
  }
 },
 "nbformat": 4,
 "nbformat_minor": 2
}