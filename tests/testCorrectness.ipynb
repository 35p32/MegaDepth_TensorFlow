{
 "cells": [
  {
   "cell_type": "code",
   "execution_count": 111,
   "metadata": {},
   "outputs": [
    {
     "output_type": "stream",
     "name": "stdout",
     "text": "The autoreload extension is already loaded. To reload it, use:\n  %reload_ext autoreload\n"
    }
   ],
   "source": [
    "import tensorflow as tf\n",
    "import numpy as np\n",
    "import cv2\n",
    "import sys, os\n",
    "from skimage import io\n",
    "from skimage.transform import resize\n",
    "sys.path.append('..')\n",
    "\n",
    "from src.model import Hourglass as Hourglass\n",
    "import tools.inspect_checkpoint\n",
    "%load_ext autoreload\n",
    "%autoreload 2"
   ]
  },
  {
   "cell_type": "code",
   "execution_count": 112,
   "metadata": {},
   "outputs": [],
   "source": [
    "img_path = '../demo.jpg'\n",
    "out_path = '../output_colored.png'"
   ]
  },
  {
   "cell_type": "code",
   "execution_count": 113,
   "metadata": {},
   "outputs": [],
   "source": [
    "img = np.float32(io.imread(img_path))\n",
    "w, h = img.shape[:2]\n",
    "input_height = 240\n",
    "input_width = 320"
   ]
  },
  {
   "cell_type": "code",
   "execution_count": 114,
   "metadata": {},
   "outputs": [],
   "source": [
    "img = cv2.resize(img, (input_width, input_height))\n",
    "img = np.expand_dims(img, axis=0)"
   ]
  },
  {
   "cell_type": "code",
   "execution_count": 115,
   "metadata": {},
   "outputs": [
    {
     "output_type": "stream",
     "name": "stdout",
     "text": "[[19387 18288 18064 ... 17100 17920 19150]\n [18199 18022 17715 ... 16047 16784 17208]\n [17981 17854 17523 ... 15647 16211 16806]\n ...\n [52257 53264 53628 ... 58444 58859 57767]\n [52527 53803 54187 ... 58722 58947 57918]\n [49096 53721 54102 ... 58496 58532 52894]]\n"
    }
   ],
   "source": [
    "sample_out = io.imread('../hell0_demo_tf_320x240_prepost.png')\n",
    "print(sample_out)"
   ]
  },
  {
   "cell_type": "code",
   "execution_count": 116,
   "metadata": {},
   "outputs": [
    {
     "output_type": "stream",
     "name": "stdout",
     "text": "Gpus are  [PhysicalDevice(name='/physical_device:GPU:0', device_type='GPU')]\n"
    }
   ],
   "source": [
    "gpus= tf.config.experimental.list_physical_devices('GPU')\n",
    "tf.config.experimental.set_memory_growth(gpus[0], True)\n",
    "print(\"Gpus are \",gpus)"
   ]
  },
  {
   "cell_type": "code",
   "execution_count": 117,
   "metadata": {},
   "outputs": [],
   "source": [
    "x = tf.zeros([1,240,320,3], tf.float32)\n",
    "weight_path = '../numpy_weights/weights_prepost.npy'\n",
    "trainedWeights = np.load(weight_path, allow_pickle=True)[()]"
   ]
  },
  {
   "cell_type": "code",
   "execution_count": 118,
   "metadata": {
    "tags": [
     "outputPrepend"
    ]
   },
   "outputs": [
    {
     "output_type": "stream",
     "name": "stdout",
     "text": "weight loaded\n32 (32,) 3/0/0/1/\n32 (32,) 3/0/0/1/\n32 (32,) 3/0/0/1/\n32 (32,) 3/0/0/2/\n32 (32,) 3/0/0/2/\n32 (32,) 3/0/0/2/\n32 (32,) 3/0/0/3/0/0/1/\n32 (32,) 3/0/0/3/0/0/1/\n32 (32,) 3/0/0/3/0/0/1/\n32 (32,) 3/0/0/3/0/0/2/\n32 (32,) 3/0/0/3/0/0/2/\n32 (32,) 3/0/0/3/0/0/2/\n32 (32,) 3/0/0/3/0/0/3/0/0/0/\n32 (32,) 3/0/0/3/0/0/3/0/0/0/\n32 (32,) 3/0/0/3/0/0/3/0/0/0/\n64 (64,) 3/0/0/3/0/0/3/0/0/1/\n64 (64,) 3/0/0/3/0/0/3/0/0/1/\n64 (64,) 3/0/0/3/0/0/3/0/0/1/\n32 (32,) 3/0/0/3/0/0/3/0/1/1/\n32 (32,) 3/0/0/3/0/0/3/0/1/1/\n32 (32,) 3/0/0/3/0/0/3/0/1/1/\n32 (32,) 3/0/0/3/0/0/3/0/1/2/\n32 (32,) 3/0/0/3/0/0/3/0/1/2/\n32 (32,) 3/0/0/3/0/0/3/0/1/2/\n32 (32,) 3/0/0/3/0/0/3/0/1/3/0/0/0/\n32 (32,) 3/0/0/3/0/0/3/0/1/3/0/0/0/\n32 (32,) 3/0/0/3/0/0/3/0/1/3/0/0/0/\n32 (32,) 3/0/0/3/0/0/3/0/1/3/0/0/1/\n32 (32,) 3/0/0/3/0/0/3/0/1/3/0/0/1/\n32 (32,) 3/0/0/3/0/0/3/0/1/3/0/0/1/\n32 (32,) 3/0/0/3/0/0/3/0/1/3/0/1/1/\n32 (32,) 3/0/0/3/0/0/3/0/1/3/0/1/1/\n32 (32,) 3/0/0/3/0/0/3/0/1/3/0/1/1/\n32 (32,) 3/0/0/3/0/0/3/0/1/3/0/1/2/\n32 (32,) 3/0/0/3/0/0/3/0/1/3/0/1/2/\n32 (32,) 3/0/0/3/0/0/3/0/1/3/0/1/2/\n32 (32,) 3/0/0/3/0/0/3/0/1/3/0/1/3/\n32 (32,) 3/0/0/3/0/0/3/0/1/3/0/1/3/\n32 (32,) 3/0/0/3/0/0/3/0/1/3/0/1/3/\n32 (32,) 3/0/0/3/0/0/3/0/1/4/\n32 (32,) 3/0/0/3/0/0/3/0/1/4/\n32 (32,) 3/0/0/3/0/0/3/0/1/4/\n64 (64,) 3/0/0/3/0/0/3/0/1/5/\n64 (64,) 3/0/0/3/0/0/3/0/1/5/\n64 (64,) 3/0/0/3/0/0/3/0/1/5/\n32 (32,) 3/0/0/3/0/0/4/\n32 (32,) 3/0/0/3/0/0/4/\n32 (32,) 3/0/0/3/0/0/4/\n32 (32,) 3/0/0/3/0/0/5/\n32 (32,) 3/0/0/3/0/0/5/\n32 (32,) 3/0/0/3/0/0/5/\n32 (32,) 3/0/0/3/0/1/0/\n32 (32,) 3/0/0/3/0/1/0/\n32 (32,) 3/0/0/3/0/1/0/\n64 (64,) 3/0/0/3/0/1/1/\n64 (64,) 3/0/0/3/0/1/1/\n64 (64,) 3/0/0/3/0/1/1/\n64 (64,) 3/0/0/4/\n64 (64,) 3/0/0/4/\n64 (64,) 3/0/0/4/\n32 (32,) 3/0/0/5/\n32 (32,) 3/0/0/5/\n32 (32,) 3/0/0/5/\n64 (64,) 3/0/1/0/\n64 (64,) 3/0/1/0/\n64 (64,) 3/0/1/0/\nModel created\n"
    }
   ],
   "source": [
    "if gpus:\n",
    "    print(\"weight loaded\")\n",
    "    H = Hourglass(training=False, weightsDictionary=trainedWeights, normalize=True)\n",
    "    print(\"Model created\")\n",
    "    H.trainable = False\n",
    "    output = H.predict_on_batch(img)\n",
    "    #print(\"output Finished\",output)\n",
    "    output = np.array(output, dtype=np.float32)*255\n",
    "    # print(output)\n",
    "    io.imsave(out_path, np.array(output, dtype=np.uint8))"
   ]
  },
  {
   "cell_type": "code",
   "execution_count": 119,
   "metadata": {
    "tags": [
     "outputPrepend"
    ]
   },
   "outputs": [
    {
     "output_type": "stream",
     "name": "stdout",
     "text": "0/conv2d/bias\n0/conv2d/kernel\n3/0/0/1/conv2d/bias\n3/0/0/1/conv2d/kernel\n3/0/0/1/conv2d_1/bias\n3/0/0/1/conv2d_1/kernel\n3/0/0/1/conv2d_2/bias\n3/0/0/1/conv2d_2/kernel\n3/0/0/1/conv2d_3/bias\n3/0/0/1/conv2d_3/kernel\n3/0/0/1/conv2d_4/bias\n3/0/0/1/conv2d_4/kernel\n3/0/0/1/conv2d_5/bias\n3/0/0/1/conv2d_5/kernel\n3/0/0/1/conv2d_6/bias\n3/0/0/1/conv2d_6/kernel\n3/0/0/2/conv2d/bias\n3/0/0/2/conv2d/kernel\n3/0/0/2/conv2d_1/bias\n3/0/0/2/conv2d_1/kernel\n3/0/0/2/conv2d_2/bias\n3/0/0/2/conv2d_2/kernel\n3/0/0/2/conv2d_3/bias\n3/0/0/2/conv2d_3/kernel\n3/0/0/2/conv2d_4/bias\n3/0/0/2/conv2d_4/kernel\n3/0/0/2/conv2d_5/bias\n3/0/0/2/conv2d_5/kernel\n3/0/0/2/conv2d_6/bias\n3/0/0/2/conv2d_6/kernel\n3/0/0/3/0/0/1/conv2d/bias\n3/0/0/3/0/0/1/conv2d/kernel\n3/0/0/3/0/0/1/conv2d_1/bias\n3/0/0/3/0/0/1/conv2d_1/kernel\n3/0/0/3/0/0/1/conv2d_2/bias\n3/0/0/3/0/0/1/conv2d_2/kernel\n3/0/0/3/0/0/1/conv2d_3/bias\n3/0/0/3/0/0/1/conv2d_3/kernel\n3/0/0/3/0/0/1/conv2d_4/bias\n3/0/0/3/0/0/1/conv2d_4/kernel\n3/0/0/3/0/0/1/conv2d_5/bias\n3/0/0/3/0/0/1/conv2d_5/kernel\n3/0/0/3/0/0/1/conv2d_6/bias\n3/0/0/3/0/0/1/conv2d_6/kernel\n3/0/0/3/0/0/2/conv2d/bias\n3/0/0/3/0/0/2/conv2d/kernel\n3/0/0/3/0/0/2/conv2d_1/bias\n3/0/0/3/0/0/2/conv2d_1/kernel\n3/0/0/3/0/0/2/conv2d_2/bias\n3/0/0/3/0/0/2/conv2d_2/kernel\n3/0/0/3/0/0/2/conv2d_3/bias\n3/0/0/3/0/0/2/conv2d_3/kernel\n3/0/0/3/0/0/2/conv2d_4/bias\n3/0/0/3/0/0/2/conv2d_4/kernel\n3/0/0/3/0/0/2/conv2d_5/bias\n3/0/0/3/0/0/2/conv2d_5/kernel\n3/0/0/3/0/0/2/conv2d_6/bias\n3/0/0/3/0/0/2/conv2d_6/kernel\n3/0/0/3/0/0/3/0/0/0/conv2d/bias\n3/0/0/3/0/0/3/0/0/0/conv2d/kernel\n3/0/0/3/0/0/3/0/0/0/conv2d_1/bias\n3/0/0/3/0/0/3/0/0/0/conv2d_1/kernel\n3/0/0/3/0/0/3/0/0/0/conv2d_2/bias\n3/0/0/3/0/0/3/0/0/0/conv2d_2/kernel\n3/0/0/3/0/0/3/0/0/0/conv2d_3/bias\n3/0/0/3/0/0/3/0/0/0/conv2d_3/kernel\n3/0/0/3/0/0/3/0/0/0/conv2d_4/bias\n3/0/0/3/0/0/3/0/0/0/conv2d_4/kernel\n3/0/0/3/0/0/3/0/0/0/conv2d_5/bias\n3/0/0/3/0/0/3/0/0/0/conv2d_5/kernel\n3/0/0/3/0/0/3/0/0/0/conv2d_6/bias\n3/0/0/3/0/0/3/0/0/0/conv2d_6/kernel\n3/0/0/3/0/0/3/0/0/1/conv2d/bias\n3/0/0/3/0/0/3/0/0/1/conv2d/kernel\n3/0/0/3/0/0/3/0/0/1/conv2d_1/bias\n3/0/0/3/0/0/3/0/0/1/conv2d_1/kernel\n3/0/0/3/0/0/3/0/0/1/conv2d_2/bias\n3/0/0/3/0/0/3/0/0/1/conv2d_2/kernel\n3/0/0/3/0/0/3/0/0/1/conv2d_3/bias\n3/0/0/3/0/0/3/0/0/1/conv2d_3/kernel\n3/0/0/3/0/0/3/0/0/1/conv2d_4/bias\n3/0/0/3/0/0/3/0/0/1/conv2d_4/kernel\n3/0/0/3/0/0/3/0/0/1/conv2d_5/bias\n3/0/0/3/0/0/3/0/0/1/conv2d_5/kernel\n3/0/0/3/0/0/3/0/0/1/conv2d_6/bias\n3/0/0/3/0/0/3/0/0/1/conv2d_6/kernel\n3/0/0/3/0/0/3/0/1/1/conv2d/bias\n3/0/0/3/0/0/3/0/1/1/conv2d/kernel\n3/0/0/3/0/0/3/0/1/1/conv2d_1/bias\n3/0/0/3/0/0/3/0/1/1/conv2d_1/kernel\n3/0/0/3/0/0/3/0/1/1/conv2d_2/bias\n3/0/0/3/0/0/3/0/1/1/conv2d_2/kernel\n3/0/0/3/0/0/3/0/1/1/conv2d_3/bias\n3/0/0/3/0/0/3/0/1/1/conv2d_3/kernel\n3/0/0/3/0/0/3/0/1/1/conv2d_4/bias\n3/0/0/3/0/0/3/0/1/1/conv2d_4/kernel\n3/0/0/3/0/0/3/0/1/1/conv2d_5/bias\n3/0/0/3/0/0/3/0/1/1/conv2d_5/kernel\n3/0/0/3/0/0/3/0/1/1/conv2d_6/bias\n3/0/0/3/0/0/3/0/1/1/conv2d_6/kernel\n3/0/0/3/0/0/3/0/1/2/conv2d/bias\n3/0/0/3/0/0/3/0/1/2/conv2d/kernel\n3/0/0/3/0/0/3/0/1/2/conv2d_1/bias\n3/0/0/3/0/0/3/0/1/2/conv2d_1/kernel\n3/0/0/3/0/0/3/0/1/2/conv2d_2/bias\n3/0/0/3/0/0/3/0/1/2/conv2d_2/kernel\n3/0/0/3/0/0/3/0/1/2/conv2d_3/bias\n3/0/0/3/0/0/3/0/1/2/conv2d_3/kernel\n3/0/0/3/0/0/3/0/1/2/conv2d_4/bias\n3/0/0/3/0/0/3/0/1/2/conv2d_4/kernel\n3/0/0/3/0/0/3/0/1/2/conv2d_5/bias\n3/0/0/3/0/0/3/0/1/2/conv2d_5/kernel\n3/0/0/3/0/0/3/0/1/2/conv2d_6/bias\n3/0/0/3/0/0/3/0/1/2/conv2d_6/kernel\n3/0/0/3/0/0/3/0/1/3/0/0/0/conv2d/bias\n3/0/0/3/0/0/3/0/1/3/0/0/0/conv2d/kernel\n3/0/0/3/0/0/3/0/1/3/0/0/0/conv2d_1/bias\n3/0/0/3/0/0/3/0/1/3/0/0/0/conv2d_1/kernel\n3/0/0/3/0/0/3/0/1/3/0/0/0/conv2d_2/bias\n3/0/0/3/0/0/3/0/1/3/0/0/0/conv2d_2/kernel\n3/0/0/3/0/0/3/0/1/3/0/0/0/conv2d_3/bias\n3/0/0/3/0/0/3/0/1/3/0/0/0/conv2d_3/kernel\n3/0/0/3/0/0/3/0/1/3/0/0/0/conv2d_4/bias\n3/0/0/3/0/0/3/0/1/3/0/0/0/conv2d_4/kernel\n3/0/0/3/0/0/3/0/1/3/0/0/0/conv2d_5/bias\n3/0/0/3/0/0/3/0/1/3/0/0/0/conv2d_5/kernel\n3/0/0/3/0/0/3/0/1/3/0/0/0/conv2d_6/bias\n3/0/0/3/0/0/3/0/1/3/0/0/0/conv2d_6/kernel\n3/0/0/3/0/0/3/0/1/3/0/0/1/conv2d/bias\n3/0/0/3/0/0/3/0/1/3/0/0/1/conv2d/kernel\n3/0/0/3/0/0/3/0/1/3/0/0/1/conv2d_1/bias\n3/0/0/3/0/0/3/0/1/3/0/0/1/conv2d_1/kernel\n3/0/0/3/0/0/3/0/1/3/0/0/1/conv2d_2/bias\n3/0/0/3/0/0/3/0/1/3/0/0/1/conv2d_2/kernel\n3/0/0/3/0/0/3/0/1/3/0/0/1/conv2d_3/bias\n3/0/0/3/0/0/3/0/1/3/0/0/1/conv2d_3/kernel\n3/0/0/3/0/0/3/0/1/3/0/0/1/conv2d_4/bias\n3/0/0/3/0/0/3/0/1/3/0/0/1/conv2d_4/kernel\n3/0/0/3/0/0/3/0/1/3/0/0/1/conv2d_5/bias\n3/0/0/3/0/0/3/0/1/3/0/0/1/conv2d_5/kernel\n3/0/0/3/0/0/3/0/1/3/0/0/1/conv2d_6/bias\n3/0/0/3/0/0/3/0/1/3/0/0/1/conv2d_6/kernel\n3/0/0/3/0/0/3/0/1/3/0/1/1/conv2d/bias\n3/0/0/3/0/0/3/0/1/3/0/1/1/conv2d/kernel\n3/0/0/3/0/0/3/0/1/3/0/1/1/conv2d_1/bias\n3/0/0/3/0/0/3/0/1/3/0/1/1/conv2d_1/kernel\n3/0/0/3/0/0/3/0/1/3/0/1/1/conv2d_2/bias\n3/0/0/3/0/0/3/0/1/3/0/1/1/conv2d_2/kernel\n3/0/0/3/0/0/3/0/1/3/0/1/1/conv2d_3/bias\n3/0/0/3/0/0/3/0/1/3/0/1/1/conv2d_3/kernel\n3/0/0/3/0/0/3/0/1/3/0/1/1/conv2d_4/bias\n3/0/0/3/0/0/3/0/1/3/0/1/1/conv2d_4/kernel\n3/0/0/3/0/0/3/0/1/3/0/1/1/conv2d_5/bias\n3/0/0/3/0/0/3/0/1/3/0/1/1/conv2d_5/kernel\n3/0/0/3/0/0/3/0/1/3/0/1/1/conv2d_6/bias\n3/0/0/3/0/0/3/0/1/3/0/1/1/conv2d_6/kernel\n3/0/0/3/0/0/3/0/1/3/0/1/2/conv2d/bias\n3/0/0/3/0/0/3/0/1/3/0/1/2/conv2d/kernel\n3/0/0/3/0/0/3/0/1/3/0/1/2/conv2d_1/bias\n3/0/0/3/0/0/3/0/1/3/0/1/2/conv2d_1/kernel\n3/0/0/3/0/0/3/0/1/3/0/1/2/conv2d_2/bias\n3/0/0/3/0/0/3/0/1/3/0/1/2/conv2d_2/kernel\n3/0/0/3/0/0/3/0/1/3/0/1/2/conv2d_3/bias\n3/0/0/3/0/0/3/0/1/3/0/1/2/conv2d_3/kernel\n3/0/0/3/0/0/3/0/1/3/0/1/2/conv2d_4/bias\n3/0/0/3/0/0/3/0/1/3/0/1/2/conv2d_4/kernel\n3/0/0/3/0/0/3/0/1/3/0/1/2/conv2d_5/bias\n3/0/0/3/0/0/3/0/1/3/0/1/2/conv2d_5/kernel\n3/0/0/3/0/0/3/0/1/3/0/1/2/conv2d_6/bias\n3/0/0/3/0/0/3/0/1/3/0/1/2/conv2d_6/kernel\n3/0/0/3/0/0/3/0/1/3/0/1/3/conv2d/bias\n3/0/0/3/0/0/3/0/1/3/0/1/3/conv2d/kernel\n3/0/0/3/0/0/3/0/1/3/0/1/3/conv2d_1/bias\n3/0/0/3/0/0/3/0/1/3/0/1/3/conv2d_1/kernel\n3/0/0/3/0/0/3/0/1/3/0/1/3/conv2d_2/bias\n3/0/0/3/0/0/3/0/1/3/0/1/3/conv2d_2/kernel\n3/0/0/3/0/0/3/0/1/3/0/1/3/conv2d_3/bias\n3/0/0/3/0/0/3/0/1/3/0/1/3/conv2d_3/kernel\n3/0/0/3/0/0/3/0/1/3/0/1/3/conv2d_4/bias\n3/0/0/3/0/0/3/0/1/3/0/1/3/conv2d_4/kernel\n3/0/0/3/0/0/3/0/1/3/0/1/3/conv2d_5/bias\n3/0/0/3/0/0/3/0/1/3/0/1/3/conv2d_5/kernel\n3/0/0/3/0/0/3/0/1/3/0/1/3/conv2d_6/bias\n3/0/0/3/0/0/3/0/1/3/0/1/3/conv2d_6/kernel\n3/0/0/3/0/0/3/0/1/4/conv2d/bias\n3/0/0/3/0/0/3/0/1/4/conv2d/kernel\n3/0/0/3/0/0/3/0/1/4/conv2d_1/bias\n3/0/0/3/0/0/3/0/1/4/conv2d_1/kernel\n3/0/0/3/0/0/3/0/1/4/conv2d_2/bias\n3/0/0/3/0/0/3/0/1/4/conv2d_2/kernel\n3/0/0/3/0/0/3/0/1/4/conv2d_3/bias\n3/0/0/3/0/0/3/0/1/4/conv2d_3/kernel\n3/0/0/3/0/0/3/0/1/4/conv2d_4/bias\n3/0/0/3/0/0/3/0/1/4/conv2d_4/kernel\n3/0/0/3/0/0/3/0/1/4/conv2d_5/bias\n3/0/0/3/0/0/3/0/1/4/conv2d_5/kernel\n3/0/0/3/0/0/3/0/1/4/conv2d_6/bias\n3/0/0/3/0/0/3/0/1/4/conv2d_6/kernel\n3/0/0/3/0/0/3/0/1/5/conv2d/bias\n3/0/0/3/0/0/3/0/1/5/conv2d/kernel\n3/0/0/3/0/0/3/0/1/5/conv2d_1/bias\n3/0/0/3/0/0/3/0/1/5/conv2d_1/kernel\n3/0/0/3/0/0/3/0/1/5/conv2d_2/bias\n3/0/0/3/0/0/3/0/1/5/conv2d_2/kernel\n3/0/0/3/0/0/3/0/1/5/conv2d_3/bias\n3/0/0/3/0/0/3/0/1/5/conv2d_3/kernel\n3/0/0/3/0/0/3/0/1/5/conv2d_4/bias\n3/0/0/3/0/0/3/0/1/5/conv2d_4/kernel\n3/0/0/3/0/0/3/0/1/5/conv2d_5/bias\n3/0/0/3/0/0/3/0/1/5/conv2d_5/kernel\n3/0/0/3/0/0/3/0/1/5/conv2d_6/bias\n3/0/0/3/0/0/3/0/1/5/conv2d_6/kernel\n3/0/0/3/0/0/4/conv2d/bias\n3/0/0/3/0/0/4/conv2d/kernel\n3/0/0/3/0/0/4/conv2d_1/bias\n3/0/0/3/0/0/4/conv2d_1/kernel\n3/0/0/3/0/0/4/conv2d_2/bias\n3/0/0/3/0/0/4/conv2d_2/kernel\n3/0/0/3/0/0/4/conv2d_3/bias\n3/0/0/3/0/0/4/conv2d_3/kernel\n3/0/0/3/0/0/4/conv2d_4/bias\n3/0/0/3/0/0/4/conv2d_4/kernel\n3/0/0/3/0/0/4/conv2d_5/bias\n3/0/0/3/0/0/4/conv2d_5/kernel\n3/0/0/3/0/0/4/conv2d_6/bias\n3/0/0/3/0/0/4/conv2d_6/kernel\n3/0/0/3/0/0/5/conv2d/bias\n3/0/0/3/0/0/5/conv2d/kernel\n3/0/0/3/0/0/5/conv2d_1/bias\n3/0/0/3/0/0/5/conv2d_1/kernel\n3/0/0/3/0/0/5/conv2d_2/bias\n3/0/0/3/0/0/5/conv2d_2/kernel\n3/0/0/3/0/0/5/conv2d_3/bias\n3/0/0/3/0/0/5/conv2d_3/kernel\n3/0/0/3/0/0/5/conv2d_4/bias\n3/0/0/3/0/0/5/conv2d_4/kernel\n3/0/0/3/0/0/5/conv2d_5/bias\n3/0/0/3/0/0/5/conv2d_5/kernel\n3/0/0/3/0/0/5/conv2d_6/bias\n3/0/0/3/0/0/5/conv2d_6/kernel\n3/0/0/3/0/1/0/conv2d/bias\n3/0/0/3/0/1/0/conv2d/kernel\n3/0/0/3/0/1/0/conv2d_1/bias\n3/0/0/3/0/1/0/conv2d_1/kernel\n3/0/0/3/0/1/0/conv2d_2/bias\n3/0/0/3/0/1/0/conv2d_2/kernel\n3/0/0/3/0/1/0/conv2d_3/bias\n3/0/0/3/0/1/0/conv2d_3/kernel\n3/0/0/3/0/1/0/conv2d_4/bias\n3/0/0/3/0/1/0/conv2d_4/kernel\n3/0/0/3/0/1/0/conv2d_5/bias\n3/0/0/3/0/1/0/conv2d_5/kernel\n3/0/0/3/0/1/0/conv2d_6/bias\n3/0/0/3/0/1/0/conv2d_6/kernel\n3/0/0/3/0/1/1/conv2d/bias\n3/0/0/3/0/1/1/conv2d/kernel\n3/0/0/3/0/1/1/conv2d_1/bias\n3/0/0/3/0/1/1/conv2d_1/kernel\n3/0/0/3/0/1/1/conv2d_2/bias\n3/0/0/3/0/1/1/conv2d_2/kernel\n3/0/0/3/0/1/1/conv2d_3/bias\n3/0/0/3/0/1/1/conv2d_3/kernel\n3/0/0/3/0/1/1/conv2d_4/bias\n3/0/0/3/0/1/1/conv2d_4/kernel\n3/0/0/3/0/1/1/conv2d_5/bias\n3/0/0/3/0/1/1/conv2d_5/kernel\n3/0/0/3/0/1/1/conv2d_6/bias\n3/0/0/3/0/1/1/conv2d_6/kernel\n3/0/0/4/conv2d/bias\n3/0/0/4/conv2d/kernel\n3/0/0/4/conv2d_1/bias\n3/0/0/4/conv2d_1/kernel\n3/0/0/4/conv2d_2/bias\n3/0/0/4/conv2d_2/kernel\n3/0/0/4/conv2d_3/bias\n3/0/0/4/conv2d_3/kernel\n3/0/0/4/conv2d_4/bias\n3/0/0/4/conv2d_4/kernel\n3/0/0/4/conv2d_5/bias\n3/0/0/4/conv2d_5/kernel\n3/0/0/4/conv2d_6/bias\n3/0/0/4/conv2d_6/kernel\n3/0/0/5/conv2d/bias\n3/0/0/5/conv2d/kernel\n3/0/0/5/conv2d_1/bias\n3/0/0/5/conv2d_1/kernel\n3/0/0/5/conv2d_2/bias\n3/0/0/5/conv2d_2/kernel\n3/0/0/5/conv2d_3/bias\n3/0/0/5/conv2d_3/kernel\n3/0/0/5/conv2d_4/bias\n3/0/0/5/conv2d_4/kernel\n3/0/0/5/conv2d_5/bias\n3/0/0/5/conv2d_5/kernel\n3/0/0/5/conv2d_6/bias\n3/0/0/5/conv2d_6/kernel\n3/0/1/0/conv2d/bias\n3/0/1/0/conv2d/kernel\n3/0/1/0/conv2d_1/bias\n3/0/1/0/conv2d_1/kernel\n3/0/1/0/conv2d_2/bias\n3/0/1/0/conv2d_2/kernel\n3/0/1/0/conv2d_3/bias\n3/0/1/0/conv2d_3/kernel\n3/0/1/0/conv2d_4/bias\n3/0/1/0/conv2d_4/kernel\n3/0/1/0/conv2d_5/bias\n3/0/1/0/conv2d_5/kernel\n3/0/1/0/conv2d_6/bias\n3/0/1/0/conv2d_6/kernel\n4/conv2d/bias\n4/conv2d/kernel\n"
    }
   ],
   "source": [
    "K = trainedWeights.keys()\n",
    "# print(trainedWeights['0/conv2d/kernel'])\n",
    "for k in K:\n",
    "    if \"conv2d\" in k:\n",
    "        print(k)\n",
    "# print(K)"
   ]
  },
  {
   "cell_type": "code",
   "execution_count": 120,
   "metadata": {},
   "outputs": [],
   "source": [
    "#trainedWeights2 = np.load('../weights.pkl.npy', allow_pickle=True)[()]\n"
   ]
  },
  {
   "cell_type": "code",
   "execution_count": 121,
   "metadata": {
    "tags": [
     "outputPrepend"
    ]
   },
   "outputs": [],
   "source": [
    "#K = trainedWeights2.keys()\n",
    "#print(K)"
   ]
  }
 ],
 "metadata": {
  "language_info": {
   "codemirror_mode": {
    "name": "ipython",
    "version": 3
   },
   "file_extension": ".py",
   "mimetype": "text/x-python",
   "name": "python",
   "nbconvert_exporter": "python",
   "pygments_lexer": "ipython3",
   "version": "3.6.9-final"
  },
  "orig_nbformat": 2,
  "kernelspec": {
   "name": "aienv3",
   "display_name": "AIenv3"
  }
 },
 "nbformat": 4,
 "nbformat_minor": 2
}