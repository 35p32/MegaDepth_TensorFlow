{
 "cells": [
  {
   "cell_type": "code",
   "execution_count": 1,
   "metadata": {},
   "outputs": [],
   "source": [
    "import tensorflow as tf\n",
    "import numpy as np\n",
    "import cv2\n",
    "import re\n",
    "\n",
    "import src.model\n",
    "import inspect_checkpoint\n",
    "%load_ext autoreload\n",
    "%autoreload 2"
   ]
  },
  {
   "cell_type": "code",
   "execution_count": 2,
   "metadata": {},
   "outputs": [],
   "source": [
    "IMG_FILE_TYPE = \"png\"\n",
    "MEGA_MODEL_WEIGHTS = './megadepth_model_fuse_bn_name/mega_prepost.ckpt'\n",
    "tf.compat.v1.disable_eager_execution()"
   ]
  },
  {
   "cell_type": "code",
   "execution_count": 3,
   "metadata": {},
   "outputs": [],
   "source": [
    "(train_images, train_labels), _ = tf.keras.datasets.fashion_mnist.load_data()"
   ]
  },
  {
   "cell_type": "code",
   "execution_count": 4,
   "metadata": {},
   "outputs": [
    {
     "output_type": "stream",
     "name": "stdout",
     "text": "WARNING:tensorflow:From /home/sniper/programs/AIenv3/lib/python3.6/site-packages/tensorflow_core/python/ops/resource_variable_ops.py:1635: calling BaseResourceVariable.__init__ (from tensorflow.python.ops.resource_variable_ops) with constraint is deprecated and will be removed in a future version.\nInstructions for updating:\nIf using Keras pass *_constraint arguments to layers.\nhourglass\n"
    }
   ],
   "source": [
    "with tf.device(\"CPU:0\"):\n",
    "    x = tf.zeros([4,384,512,3], tf.float32)\n",
    "    C1 = depth_net.Hourglass()\n",
    "    y = C1.call(x)\n",
    "    print(C1.name)"
   ]
  },
  {
   "cell_type": "code",
   "execution_count": 5,
   "metadata": {},
   "outputs": [],
   "source": [
    "sess = tf.compat.v1.Session(config = tf.compat.v1.ConfigProto())\n",
    "init = tf.compat.v1.global_variables_initializer()\n",
    "sess.run(init)\n",
    "model_restore_var = [v for v in tf.compat.v1.global_variables()]"
   ]
  },
  {
   "cell_type": "code",
   "execution_count": 6,
   "metadata": {},
   "outputs": [],
   "source": [
    "def load(saver, sess, ckpt_path):\n",
    "    '''Load trained weights.\n",
    "    \n",
    "    Args:\n",
    "      saver: TensorFlow saver object.\n",
    "      sess: TensorFlow session.\n",
    "      ckpt_path: path to checkpoint file with parameters.\n",
    "    ''' \n",
    "    saver.restore(sess, ckpt_path)\n",
    "    print(\"Restored model parameters from {}\".format(ckpt_path))"
   ]
  },
  {
   "cell_type": "code",
   "execution_count": 7,
   "metadata": {
    "tags": [
     "outputPrepend"
    ]
   },
   "outputs": [],
   "source": [
    "# print(tf.compat.v1.global_variables())\n",
    "trainedWeights = np.load('weights.pkl.npy',allow_pickle=True)[()]\n",
    "# loader = tf.compat.v1.train.Saver(var_list=model_restore_var)\n",
    "# load(loader, sess, MEGA_MODEL_WEIGHTS)\n"
   ]
  },
  {
   "cell_type": "code",
   "execution_count": 8,
   "metadata": {
    "tags": [
     "outputPrepend"
    ]
   },
   "outputs": [
    {
     "output_type": "stream",
     "name": "stdout",
     "text": "['3/0/0/3/0/0/3/0/0/0/batch_normalization/moving_mean', '3/0/0/3/0/0/3/0/0/0/batch_normalization/moving_variance', '3/0/0/3/0/0/3/0/0/0/batch_normalization_1/moving_mean', '3/0/0/3/0/0/3/0/0/0/batch_normalization_1/moving_variance', '3/0/0/3/0/0/3/0/0/0/batch_normalization_2/moving_mean', '3/0/0/3/0/0/3/0/0/0/batch_normalization_2/moving_variance', '3/0/0/3/0/0/3/0/0/0/batch_normalization_3/moving_mean', '3/0/0/3/0/0/3/0/0/0/batch_normalization_3/moving_variance', '3/0/0/3/0/0/3/0/0/0/batch_normalization_4/moving_mean', '3/0/0/3/0/0/3/0/0/0/batch_normalization_4/moving_variance', '3/0/0/3/0/0/3/0/0/0/batch_normalization_5/moving_mean', '3/0/0/3/0/0/3/0/0/0/batch_normalization_5/moving_variance', '3/0/0/3/0/0/3/0/0/0/batch_normalization_6/moving_mean', '3/0/0/3/0/0/3/0/0/0/batch_normalization_6/moving_variance', '3/0/0/3/0/0/3/0/0/0/conv2d/bias', '3/0/0/3/0/0/3/0/0/0/conv2d/kernel', '3/0/0/3/0/0/3/0/0/0/conv2d_1/bias', '3/0/0/3/0/0/3/0/0/0/conv2d_1/kernel', '3/0/0/3/0/0/3/0/0/0/conv2d_2/bias', '3/0/0/3/0/0/3/0/0/0/conv2d_2/kernel', '3/0/0/3/0/0/3/0/0/0/conv2d_3/bias', '3/0/0/3/0/0/3/0/0/0/conv2d_3/kernel', '3/0/0/3/0/0/3/0/0/0/conv2d_4/bias', '3/0/0/3/0/0/3/0/0/0/conv2d_4/kernel', '3/0/0/3/0/0/3/0/0/0/conv2d_5/bias', '3/0/0/3/0/0/3/0/0/0/conv2d_5/kernel', '3/0/0/3/0/0/3/0/0/0/conv2d_6/bias', '3/0/0/3/0/0/3/0/0/0/conv2d_6/kernel', '3/0/0/3/0/0/3/0/1/3/0/0/0/batch_normalization/moving_mean', '3/0/0/3/0/0/3/0/1/3/0/0/0/batch_normalization/moving_variance', '3/0/0/3/0/0/3/0/1/3/0/0/0/batch_normalization_1/moving_mean', '3/0/0/3/0/0/3/0/1/3/0/0/0/batch_normalization_1/moving_variance', '3/0/0/3/0/0/3/0/1/3/0/0/0/batch_normalization_2/moving_mean', '3/0/0/3/0/0/3/0/1/3/0/0/0/batch_normalization_2/moving_variance', '3/0/0/3/0/0/3/0/1/3/0/0/0/batch_normalization_3/moving_mean', '3/0/0/3/0/0/3/0/1/3/0/0/0/batch_normalization_3/moving_variance', '3/0/0/3/0/0/3/0/1/3/0/0/0/batch_normalization_4/moving_mean', '3/0/0/3/0/0/3/0/1/3/0/0/0/batch_normalization_4/moving_variance', '3/0/0/3/0/0/3/0/1/3/0/0/0/batch_normalization_5/moving_mean', '3/0/0/3/0/0/3/0/1/3/0/0/0/batch_normalization_5/moving_variance', '3/0/0/3/0/0/3/0/1/3/0/0/0/batch_normalization_6/moving_mean', '3/0/0/3/0/0/3/0/1/3/0/0/0/batch_normalization_6/moving_variance', '3/0/0/3/0/0/3/0/1/3/0/0/0/conv2d/bias', '3/0/0/3/0/0/3/0/1/3/0/0/0/conv2d/kernel', '3/0/0/3/0/0/3/0/1/3/0/0/0/conv2d_1/bias', '3/0/0/3/0/0/3/0/1/3/0/0/0/conv2d_1/kernel', '3/0/0/3/0/0/3/0/1/3/0/0/0/conv2d_2/bias', '3/0/0/3/0/0/3/0/1/3/0/0/0/conv2d_2/kernel', '3/0/0/3/0/0/3/0/1/3/0/0/0/conv2d_3/bias', '3/0/0/3/0/0/3/0/1/3/0/0/0/conv2d_3/kernel', '3/0/0/3/0/0/3/0/1/3/0/0/0/conv2d_4/bias', '3/0/0/3/0/0/3/0/1/3/0/0/0/conv2d_4/kernel', '3/0/0/3/0/0/3/0/1/3/0/0/0/conv2d_5/bias', '3/0/0/3/0/0/3/0/1/3/0/0/0/conv2d_5/kernel', '3/0/0/3/0/0/3/0/1/3/0/0/0/conv2d_6/bias', '3/0/0/3/0/0/3/0/1/3/0/0/0/conv2d_6/kernel']\n"
    }
   ],
   "source": [
    "a = trainedWeights['3/0/0/3/0/0/3/0/1/3/0/1/3/conv2d_1/bias']\n",
    "K = trainedWeights.keys()\n",
    "print([k for k in K if '0/0/0' in k])"
   ]
  },
  {
   "cell_type": "code",
   "execution_count": 21,
   "metadata": {},
   "outputs": [],
   "source": [
    "def getVariablePath(opPath):\n",
    "    \"\"\"\n",
    "        returns the path of the operation without the\n",
    "        inception, channel and module path polution\n",
    "    \"\"\"\n",
    "    s1 = str(opPath).replace('module/', '')\n",
    "    s2 = re.sub('channel\\d+/', '', s1)\n",
    "    # s3 = s2.replace('inception_','inception')\n",
    "    s4 = re.sub('inception_*(base_)*\\d*/*', '', s2)\n",
    "    s5 = s4.replace(':0','')\n",
    "    return s5"
   ]
  },
  {
   "cell_type": "code",
   "execution_count": 22,
   "metadata": {
    "tags": [
     "outputPrepend"
    ]
   },
   "outputs": [
    {
     "output_type": "stream",
     "name": "stdout",
     "text": "module/0/conv2d/kernel:0 \t\t\t\t True    0/conv2d/kernel\nmodule/0/conv2d/bias:0 \t\t\t\t True    0/conv2d/bias\nmodule/1/batch_normalization/gamma:0 \t\t\t\t True    1/batch_normalization/gamma\nmodule/1/batch_normalization/beta:0 \t\t\t\t True    1/batch_normalization/beta\nmodule/3/channel4/0/0/1/inception/conv2d/kernel:0 \t\t\t\t True    3/0/0/1/conv2d/kernel\nmodule/3/channel4/0/0/1/inception/conv2d/bias:0 \t\t\t\t True    3/0/0/1/conv2d/bias\nmodule/3/channel4/0/0/1/inception/inception__base/conv2d_1/kernel:0 \t\t\t\t False    3/0/0/1/base/conv2d_1/kernel\n"
    },
    {
     "output_type": "error",
     "ename": "KeyError",
     "evalue": "'3/0/0/1/base/conv2d_1/kernel'",
     "traceback": [
      "\u001b[0;31m---------------------------------------------------------------------------\u001b[0m",
      "\u001b[0;31mKeyError\u001b[0m                                  Traceback (most recent call last)",
      "\u001b[0;32m<ipython-input-22-a574f5285736>\u001b[0m in \u001b[0;36m<module>\u001b[0;34m\u001b[0m\n\u001b[1;32m      2\u001b[0m     \u001b[0mckpt_path\u001b[0m \u001b[0;34m=\u001b[0m \u001b[0mgetVariablePath\u001b[0m\u001b[0;34m(\u001b[0m\u001b[0mvar\u001b[0m\u001b[0;34m.\u001b[0m\u001b[0mname\u001b[0m\u001b[0;34m)\u001b[0m\u001b[0;34m\u001b[0m\u001b[0;34m\u001b[0m\u001b[0m\n\u001b[1;32m      3\u001b[0m     \u001b[0mprint\u001b[0m\u001b[0;34m(\u001b[0m\u001b[0mvar\u001b[0m\u001b[0;34m.\u001b[0m\u001b[0mname\u001b[0m\u001b[0;34m,\u001b[0m\u001b[0;34m\"\\t\\t\\t\\t\"\u001b[0m\u001b[0;34m,\u001b[0m \u001b[0mckpt_path\u001b[0m \u001b[0;32min\u001b[0m \u001b[0mK\u001b[0m\u001b[0;34m,\u001b[0m \u001b[0;34m\"  \"\u001b[0m\u001b[0;34m,\u001b[0m \u001b[0mckpt_path\u001b[0m\u001b[0;34m)\u001b[0m\u001b[0;34m\u001b[0m\u001b[0;34m\u001b[0m\u001b[0m\n\u001b[0;32m----> 4\u001b[0;31m     \u001b[0mvar\u001b[0m\u001b[0;34m.\u001b[0m\u001b[0mvalue\u001b[0m \u001b[0;34m=\u001b[0m \u001b[0;34m(\u001b[0m\u001b[0mtrainedWeights\u001b[0m\u001b[0;34m[\u001b[0m\u001b[0mckpt_path\u001b[0m\u001b[0;34m]\u001b[0m\u001b[0;34m)\u001b[0m\u001b[0;34m\u001b[0m\u001b[0;34m\u001b[0m\u001b[0m\n\u001b[0m",
      "\u001b[0;31mKeyError\u001b[0m: '3/0/0/1/base/conv2d_1/kernel'"
     ]
    }
   ],
   "source": [
    "for var in tf.compat.v1.trainable_variables('module'):\n",
    "    ckpt_path = getVariablePath(var.name)\n",
    "    print(var.name,\"\\t\\t\\t\\t\", ckpt_path in K, \"  \", ckpt_path)\n",
    "    var.value = (trainedWeights[ckpt_path])\n"
   ]
  },
  {
   "cell_type": "code",
   "execution_count": 11,
   "metadata": {},
   "outputs": [
    {
     "output_type": "stream",
     "name": "stdout",
     "text": "3/0/0/1/\n3/0/0/1/batch_normalization/moving_mean\n3/0/0/1/batch_normalization/moving_variance\n3/0/0/1/batch_normalization_1/moving_mean\n3/0/0/1/batch_normalization_1/moving_variance\n3/0/0/1/batch_normalization_2/moving_mean\n3/0/0/1/batch_normalization_2/moving_variance\n3/0/0/1/batch_normalization_3/moving_mean\n3/0/0/1/batch_normalization_3/moving_variance\n3/0/0/1/batch_normalization_4/moving_mean\n3/0/0/1/batch_normalization_4/moving_variance\n3/0/0/1/batch_normalization_5/moving_mean\n3/0/0/1/batch_normalization_5/moving_variance\n3/0/0/1/batch_normalization_6/moving_mean\n3/0/0/1/batch_normalization_6/moving_variance\n3/0/0/1/conv2d/bias\n3/0/0/1/conv2d/kernel\n3/0/0/1/conv2d_1/bias\n3/0/0/1/conv2d_1/kernel\n3/0/0/1/conv2d_2/bias\n3/0/0/1/conv2d_2/kernel\n3/0/0/1/conv2d_3/bias\n3/0/0/1/conv2d_3/kernel\n3/0/0/1/conv2d_4/bias\n3/0/0/1/conv2d_4/kernel\n3/0/0/1/conv2d_5/bias\n3/0/0/1/conv2d_5/kernel\n3/0/0/1/conv2d_6/bias\n3/0/0/1/conv2d_6/kernel\n3/0/0/3/0/0/1/batch_normalization/moving_mean\n3/0/0/3/0/0/1/batch_normalization/moving_variance\n3/0/0/3/0/0/1/batch_normalization_1/moving_mean\n3/0/0/3/0/0/1/batch_normalization_1/moving_variance\n3/0/0/3/0/0/1/batch_normalization_2/moving_mean\n3/0/0/3/0/0/1/batch_normalization_2/moving_variance\n3/0/0/3/0/0/1/batch_normalization_3/moving_mean\n3/0/0/3/0/0/1/batch_normalization_3/moving_variance\n3/0/0/3/0/0/1/batch_normalization_4/moving_mean\n3/0/0/3/0/0/1/batch_normalization_4/moving_variance\n3/0/0/3/0/0/1/batch_normalization_5/moving_mean\n3/0/0/3/0/0/1/batch_normalization_5/moving_variance\n3/0/0/3/0/0/1/batch_normalization_6/moving_mean\n3/0/0/3/0/0/1/batch_normalization_6/moving_variance\n3/0/0/3/0/0/1/conv2d/bias\n3/0/0/3/0/0/1/conv2d/kernel\n3/0/0/3/0/0/1/conv2d_1/bias\n3/0/0/3/0/0/1/conv2d_1/kernel\n3/0/0/3/0/0/1/conv2d_2/bias\n3/0/0/3/0/0/1/conv2d_2/kernel\n3/0/0/3/0/0/1/conv2d_3/bias\n3/0/0/3/0/0/1/conv2d_3/kernel\n3/0/0/3/0/0/1/conv2d_4/bias\n3/0/0/3/0/0/1/conv2d_4/kernel\n3/0/0/3/0/0/1/conv2d_5/bias\n3/0/0/3/0/0/1/conv2d_5/kernel\n3/0/0/3/0/0/1/conv2d_6/bias\n3/0/0/3/0/0/1/conv2d_6/kernel\n3/0/0/3/0/0/3/0/0/1/batch_normalization/moving_mean\n3/0/0/3/0/0/3/0/0/1/batch_normalization/moving_variance\n3/0/0/3/0/0/3/0/0/1/batch_normalization_1/moving_mean\n3/0/0/3/0/0/3/0/0/1/batch_normalization_1/moving_variance\n3/0/0/3/0/0/3/0/0/1/batch_normalization_2/moving_mean\n3/0/0/3/0/0/3/0/0/1/batch_normalization_2/moving_variance\n3/0/0/3/0/0/3/0/0/1/batch_normalization_3/moving_mean\n3/0/0/3/0/0/3/0/0/1/batch_normalization_3/moving_variance\n3/0/0/3/0/0/3/0/0/1/batch_normalization_4/moving_mean\n3/0/0/3/0/0/3/0/0/1/batch_normalization_4/moving_variance\n3/0/0/3/0/0/3/0/0/1/batch_normalization_5/moving_mean\n3/0/0/3/0/0/3/0/0/1/batch_normalization_5/moving_variance\n3/0/0/3/0/0/3/0/0/1/batch_normalization_6/moving_mean\n3/0/0/3/0/0/3/0/0/1/batch_normalization_6/moving_variance\n3/0/0/3/0/0/3/0/0/1/conv2d/bias\n3/0/0/3/0/0/3/0/0/1/conv2d/kernel\n3/0/0/3/0/0/3/0/0/1/conv2d_1/bias\n3/0/0/3/0/0/3/0/0/1/conv2d_1/kernel\n3/0/0/3/0/0/3/0/0/1/conv2d_2/bias\n3/0/0/3/0/0/3/0/0/1/conv2d_2/kernel\n3/0/0/3/0/0/3/0/0/1/conv2d_3/bias\n3/0/0/3/0/0/3/0/0/1/conv2d_3/kernel\n3/0/0/3/0/0/3/0/0/1/conv2d_4/bias\n3/0/0/3/0/0/3/0/0/1/conv2d_4/kernel\n3/0/0/3/0/0/3/0/0/1/conv2d_5/bias\n3/0/0/3/0/0/3/0/0/1/conv2d_5/kernel\n3/0/0/3/0/0/3/0/0/1/conv2d_6/bias\n3/0/0/3/0/0/3/0/0/1/conv2d_6/kernel\n3/0/0/3/0/0/3/0/1/3/0/0/1/batch_normalization/moving_mean\n3/0/0/3/0/0/3/0/1/3/0/0/1/batch_normalization/moving_variance\n3/0/0/3/0/0/3/0/1/3/0/0/1/batch_normalization_1/moving_mean\n3/0/0/3/0/0/3/0/1/3/0/0/1/batch_normalization_1/moving_variance\n3/0/0/3/0/0/3/0/1/3/0/0/1/batch_normalization_2/moving_mean\n3/0/0/3/0/0/3/0/1/3/0/0/1/batch_normalization_2/moving_variance\n3/0/0/3/0/0/3/0/1/3/0/0/1/batch_normalization_3/moving_mean\n3/0/0/3/0/0/3/0/1/3/0/0/1/batch_normalization_3/moving_variance\n3/0/0/3/0/0/3/0/1/3/0/0/1/batch_normalization_4/moving_mean\n3/0/0/3/0/0/3/0/1/3/0/0/1/batch_normalization_4/moving_variance\n3/0/0/3/0/0/3/0/1/3/0/0/1/batch_normalization_5/moving_mean\n3/0/0/3/0/0/3/0/1/3/0/0/1/batch_normalization_5/moving_variance\n3/0/0/3/0/0/3/0/1/3/0/0/1/batch_normalization_6/moving_mean\n3/0/0/3/0/0/3/0/1/3/0/0/1/batch_normalization_6/moving_variance\n3/0/0/3/0/0/3/0/1/3/0/0/1/conv2d/bias\n3/0/0/3/0/0/3/0/1/3/0/0/1/conv2d/kernel\n3/0/0/3/0/0/3/0/1/3/0/0/1/conv2d_1/bias\n3/0/0/3/0/0/3/0/1/3/0/0/1/conv2d_1/kernel\n3/0/0/3/0/0/3/0/1/3/0/0/1/conv2d_2/bias\n3/0/0/3/0/0/3/0/1/3/0/0/1/conv2d_2/kernel\n3/0/0/3/0/0/3/0/1/3/0/0/1/conv2d_3/bias\n3/0/0/3/0/0/3/0/1/3/0/0/1/conv2d_3/kernel\n3/0/0/3/0/0/3/0/1/3/0/0/1/conv2d_4/bias\n3/0/0/3/0/0/3/0/1/3/0/0/1/conv2d_4/kernel\n3/0/0/3/0/0/3/0/1/3/0/0/1/conv2d_5/bias\n3/0/0/3/0/0/3/0/1/3/0/0/1/conv2d_5/kernel\n3/0/0/3/0/0/3/0/1/3/0/0/1/conv2d_6/bias\n3/0/0/3/0/0/3/0/1/3/0/0/1/conv2d_6/kernel\n"
    }
   ],
   "source": [
    "\n",
    "S = \"module/3/channel4/0/0/1/inception/\"\n",
    "\n",
    "S5 = getVariablePath(S)\n",
    "print(S5)\n",
    "for k in K:\n",
    "    if S5 in k:\n",
    "        print(k)"
   ]
  }
 ],
 "metadata": {
  "language_info": {
   "codemirror_mode": {
    "name": "ipython",
    "version": 3
   },
   "file_extension": ".py",
   "mimetype": "text/x-python",
   "name": "python",
   "nbconvert_exporter": "python",
   "pygments_lexer": "ipython3",
   "version": "3.6.9-final"
  },
  "orig_nbformat": 2,
  "kernelspec": {
   "name": "aienv3",
   "display_name": "AIenv3"
  }
 },
 "nbformat": 4,
 "nbformat_minor": 2
}